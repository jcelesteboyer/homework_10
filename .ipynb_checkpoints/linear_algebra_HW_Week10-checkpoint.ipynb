{
 "cells": [
  {
   "cell_type": "markdown",
   "id": "b7871e05",
   "metadata": {},
   "source": [
    "# Week 10 HW: Linear Algebra\n",
    "\n",
    "Please be sure your functions work for vectors with a size of three and matrices that are 3x3 and use appropriate error handling. Bonus points if you can further generalize them for larger vectors and matrices. "
   ]
  },
  {
   "cell_type": "markdown",
   "id": "8f920408",
   "metadata": {},
   "source": [
    "1. Explain the dot product and cross product in your own words in markdown. Use LaTeX to properly show the equations."
   ]
  },
  {
   "cell_type": "markdown",
   "id": "57308d33",
   "metadata": {},
   "source": [
    "Dot product is the multiplication of two vectors and is denoted by a · b (read \"a dot b\"). To get the result, you multiply the values of the magnitude (or length) of your vectors by the cosine of the angle of the vectors. The result will be a scalar value and not a vector. This will tell us interaction between the dimensions. Another way of calculating the dot product is by multiplying the x values of a and b, multiplying the y values of a and b, and then adding them together. If there are three dimensions then you do the same multiplication of the z value of a and b, then adding. \n",
    "\n",
    "$$ a \\cdot b = \\parallel a \\parallel \\cdot \\parallel b \\parallel \\cdot cos(\\theta) $$\n",
    "\n",
    "$$ a \\cdot b = a_x \\times b_x + a_y \\times b_y + a_z \\times b_z $$\n",
    "\n",
    "Cross product is the multiplication of two vectors and is denoted by a x b. The result is a new vector that is perpendicular to both the input vectors. To calculate the new vector, the magnitude of vector a and b are multiplied by the sine of the angle of the two vectors by n to give it the directionality.\n",
    "\n",
    "$$ a \\times b = \\parallel a \\parallel \\cdot \\parallel b \\parallel \\cdot sin(\\theta) \\cdot n $$\n",
    "\n",
    "$$ a \\times b = (c_x, c_y, c_z) $$\n",
    "$$ c_x = a_y \\cdot b_z − a_z \\cdot b_y $$\n",
    "$$ c_y = a_z \\cdot b_x − a_x \\cdot b_z $$\n",
    "$$ c_z = a_x \\cdot b_y − a_y \\cdot b_x $$"
   ]
  },
  {
   "cell_type": "markdown",
   "id": "c8669bb6",
   "metadata": {},
   "source": [
    "2. Write a function angle_between(v1, v2) where v1 and v2 are two vectors that are passed in, and the angle between them is calculated. "
   ]
  },
  {
   "cell_type": "code",
   "execution_count": 101,
   "id": "cf8bd26c",
   "metadata": {},
   "outputs": [
    {
     "name": "stdout",
     "output_type": "stream",
     "text": [
      "[[0.50920711]]\n"
     ]
    }
   ],
   "source": [
    "#Import dependencies\n",
    "import numpy as np\n",
    "from numpy.linalg import norm\n",
    "from numpy import arccos, dot\n",
    "import pandas as pd\n",
    "#creating two random vectors. \n",
    "a = np.array([[4, 5, 7]])\n",
    "b = np.array([[8, 3, 5]])\n",
    "#creating a function in order to find the angle between any given two vectors. \n",
    "def angle_between(v1, v2):\n",
    "    try:\n",
    "        dot_prod = dot(v1, v2.T) #making a variable with the dot product of the two given vectors. \n",
    "        #one of the vectors must be transposed in order for the dot product to work because you must \n",
    "        #have a row vector and a column vector. \n",
    "        divisor = norm(v1)*norm(v2) # making the divisor variable by multiplying the norm of both vectors. \n",
    "        \n",
    "        if divisor == 0: #introducing some error handling for zero denominator errors. \n",
    "            print(\"Can't divide by zero\")\n",
    "        \n",
    "    except Exception as e: #catch all other exceptions. \n",
    "        print(e) \n",
    "        \n",
    "    else: \n",
    "        theta = arccos(dot_prod/divisor) # calculation to find the angle. \n",
    "        print(theta)\n",
    "        \n",
    "\n",
    "angle_between(a, b)"
   ]
  },
  {
   "cell_type": "code",
   "execution_count": 6,
   "id": "4434d33e",
   "metadata": {},
   "outputs": [
    {
     "name": "stdout",
     "output_type": "stream",
     "text": [
      "Can't divide by zero\n",
      "[[nan]]\n"
     ]
    },
    {
     "name": "stderr",
     "output_type": "stream",
     "text": [
      "/var/folders/zx/rtlkvk155rx_pz72fst65zhh0000gn/T/ipykernel_8009/616384279.py:23: RuntimeWarning: invalid value encountered in true_divide\n",
      "  theta = arccos(dot_prod/divisor) # calculation to find the angle.\n"
     ]
    }
   ],
   "source": [
    "#testing the error handling if the divisor is zero. \n",
    "\n",
    "c = np.array([[0, 0, 0]])\n",
    "d = np.array([[7, 6, 5]])\n",
    "\n",
    "angle_between(c, d)"
   ]
  },
  {
   "cell_type": "markdown",
   "id": "b849fe0b",
   "metadata": {},
   "source": [
    "3. Write a function called row_dot(A, r1, r2) which takes an input matrix called A, one row number identified by r1, and another row number identified by r2 and returns the dot product of the r1 and r2 rows (indexing starts at 0)."
   ]
  },
  {
   "cell_type": "code",
   "execution_count": 30,
   "id": "33fe11a0",
   "metadata": {},
   "outputs": [
    {
     "data": {
      "text/plain": [
       "51"
      ]
     },
     "execution_count": 30,
     "metadata": {},
     "output_type": "execute_result"
    }
   ],
   "source": [
    "#Creating a matrix and giving it the variable name A. \n",
    "A = np.array([[9,1,1],\n",
    "             [6,1,8],\n",
    "             [3,1,4],\n",
    "             [2,1,7]])\n",
    "#creating a function when given a matrix and row numbers, it will produce the dot product of those rows. \n",
    "def row_dot(A, r1, r2):\n",
    "\n",
    "    try:\n",
    "        dotprod = dot(A[r1],A[r2]) #The dot product is taken of the two rows by putting \n",
    "        # the variable of the function as the index of the matrix. \n",
    "    \n",
    "    except Exception as e: #catch all exceptions. \n",
    "            return(e)\n",
    "\n",
    "    else:\n",
    "        return(dotprod) #Finally print out the dot product of the two rows selected. \n",
    "    \n",
    "row_dot(A,1,2)"
   ]
  },
  {
   "cell_type": "markdown",
   "id": "852ffb5a",
   "metadata": {},
   "source": [
    "4. Write a function matrix_division(m1, m2) that takes in two matrices, m1 and m2, and returns the result. What is the trick with matrix division?"
   ]
  },
  {
   "cell_type": "code",
   "execution_count": 38,
   "id": "2e85da4d",
   "metadata": {},
   "outputs": [
    {
     "name": "stdout",
     "output_type": "stream",
     "text": [
      "[[ 0.00000000e+00 -1.36363636e-01  3.63636364e-01]\n",
      " [ 0.00000000e+00  1.36363636e-01  6.36363636e-01]\n",
      " [ 2.22044605e-16  4.09090909e-01  9.09090909e-01]]\n"
     ]
    }
   ],
   "source": [
    "#Creating my two matracies called mat1 and mat2. \n",
    "mat1 = ([1, 2, 3],\n",
    "        [4 ,5, 6],\n",
    "        [7, 8, 9])\n",
    "mat2 = ([2, 4, 8],\n",
    "        [6, 4, 2],\n",
    "        [5, 7, 9])\n",
    "# Creating a function that takes in two matracies and divides them. \n",
    "#The trick to matrix division is that you actually multiply the first matrix by the inverse of the second matrix. \n",
    "def matrix_division(m1, m2):\n",
    "    \n",
    "    try:\n",
    "        m2 = np.linalg.inv(m2) # function to invert the second matrix. \n",
    "        mat_div = dot(m1, m2) # dot product function used to multiply the two matracies. \n",
    "        \n",
    "    except Exception as e: #catch any exceptions. \n",
    "            return(e)\n",
    "        \n",
    "    else: \n",
    "        print(mat_div) #printing out the matrix division. \n",
    "        \n",
    "matrix_division(mat1, mat2)"
   ]
  },
  {
   "cell_type": "markdown",
   "id": "16b8cd8e",
   "metadata": {},
   "source": [
    "5. Write a function is_orthogonal(v1,v2, tol), where v1 and v2 are column vectors of the same size and tol is a scalar value strictly larger than 0. The output should be 1 if the angle between v1 and v2 is within tol of π/2; that is, |π/2−θ|<tol, and 0 otherwise. "
   ]
  },
  {
   "cell_type": "code",
   "execution_count": 59,
   "id": "233162c9",
   "metadata": {},
   "outputs": [
    {
     "name": "stdout",
     "output_type": "stream",
     "text": [
      "Tol must be larger than zero\n",
      "vectors not equal\n",
      "0\n",
      "1\n"
     ]
    }
   ],
   "source": [
    "#creating column vectors to test. \n",
    "e = np.array([[6], [7], [8]])\n",
    "f = np.array([[9], [10], [11]])\n",
    "u = np.array([[12], [13], [14], [15]])\n",
    "\n",
    "def is_orthogonal(v1, v2, tol):\n",
    "    \n",
    "    try:\n",
    "       #need to do error handeling before \n",
    "        if v1.shape != v2.shape: #The two vectors much be the same size. \n",
    "            return(\"vectors not equal\")\n",
    "        \n",
    "        elif tol <= 0: #the tol must be larger than zero\n",
    "            return(\"Tol must be larger than zero\")\n",
    "\n",
    "        else: \n",
    "            # in order to find the angle we need to do like in question 2. \n",
    "            # the two vectors must first by flattened by using the ravel() function. \n",
    "            # take the dot product of the two vectors and divide by the product of the two vector norms or lengths. \n",
    "            #Then using the arccos function to find the angle. \n",
    "            angle = np.arccos((dot(v1.ravel(),v2.ravel()))/(norm(v1)*norm(v2)))\n",
    "            \n",
    "            if abs(np.pi/2-angle)<tol:\n",
    "                return(\"1\") # a '1' will print if the angle is within tol. \n",
    "            \n",
    "            else:\n",
    "                return(\"0\") # a '0' will print if the angle is not within tol. \n",
    "    \n",
    "    except Exception as e: #to catch all other errors. \n",
    "        return e\n",
    "    \n",
    "print(is_orthogonal(e, f, 0))#testing the tol error handeling. \n",
    "print(is_orthogonal(e, u, 0.5)) #testing the vector lengths error handeling. \n",
    "print(is_orthogonal(e, f, 0.0001))\n",
    "\n",
    "x = np.array([[1], [1]])\n",
    "w = np.array([[-1], [1]])\n",
    "\n",
    "print(is_orthogonal(x, w, 0.0001)) # needed to test to make sure I could get a '1'. "
   ]
  },
  {
   "cell_type": "markdown",
   "id": "23154669",
   "metadata": {},
   "source": [
    "6. Create a class called vector_calculator. __init__ should take self, vector1, and vector2. It should have two methods inside of it that are from problems 1 and 4 above (angle_between and is_orthogonal). Make sure tol is defaulted but can be overwritten. Make sure you can call angle_between and is_orthogonal through the class and return the correct results as in problems 1 and 4. "
   ]
  },
  {
   "cell_type": "code",
   "execution_count": 97,
   "id": "8ee15685",
   "metadata": {},
   "outputs": [
    {
     "name": "stdout",
     "output_type": "stream",
     "text": [
      "0.06380094676987083\n",
      "None\n",
      "Scalar value must be larger than 0\n",
      "None\n",
      "0\n",
      "None\n"
     ]
    }
   ],
   "source": [
    "vec1 = np.array([[2],[4],[6],[8]])\n",
    "vec2 = np.array([[3],[5],[7],[9]])\n",
    "\n",
    "class vector_calculator():\n",
    "    def __init__(self, vector1, vector2):\n",
    "        self.v1=np.ravel(vector1)\n",
    "        self.v2=np.ravel(vector2)\n",
    "        \n",
    "# Copy and pasting function from question #2. \n",
    "    def angle_between(self):\n",
    "        v1 = self.v1\n",
    "        v2 = self.v2\n",
    "        try:\n",
    "            dot_prod = dot(v1, v2.T)\n",
    "            divisor = norm(v1)*norm(v2)\n",
    "            if divisor == 0:\n",
    "                print(\"Can't divide by zero\")\n",
    "            else:\n",
    "                theta = arccos(dot_prod/divisor) # calculation to find the angle. \n",
    "                print(theta)\n",
    "        except Exception as e:\n",
    "            return(e)\n",
    "        \n",
    " # Copy and pasting function from question #5. \n",
    "    def is_orthogonal(self, tol=0):\n",
    "        v1 = self.v1\n",
    "        v2 = self.v2\n",
    "        try:\n",
    "            if len(v1) != len(v2):\n",
    "                print('Vectors must be of equal length')\n",
    "            elif tol <= 0:\n",
    "                print('Scalar value must be larger than 0')\n",
    "            else:\n",
    "                angle = np.arccos((dot(v1.ravel(),v2.ravel()))/(norm(v1)*norm(v2)))\n",
    "                if abs(np.pi/2-angle)<tol:\n",
    "                    print(\"1\")\n",
    "                else:\n",
    "                    print(\"0\")\n",
    "        except Exception as e:\n",
    "            return e\n",
    "        \n",
    "\n",
    "c = vector_calculator(vec1, vec2)\n",
    "\n",
    "print(c.angle_between())\n",
    "print(c.is_orthogonal(tol=0))\n",
    "print(c.is_orthogonal(tol=0.5))"
   ]
  },
  {
   "cell_type": "markdown",
   "id": "f1bb19f6",
   "metadata": {},
   "source": [
    "7. Show a graphical representation of the breast cancer data outlined in this reading https://www.datacamp.com/community/tutorials/principal-component-analysis-in-python Be sure to describe what PCA is and incorporate the principal components in your plot. This is just exploratory, so there are many correct answers!"
   ]
  },
  {
   "cell_type": "code",
   "execution_count": 109,
   "id": "8e77837c",
   "metadata": {},
   "outputs": [],
   "source": [
    "import pandas as pd\n",
    "import numpy as np\n",
    "import statistics\n",
    "import math\n",
    "from scipy import stats\n",
    "import matplotlib.pyplot as plt\n",
    "import seaborn as sns\n",
    "from sklearn.datasets import load_breast_cancer\n",
    "from sklearn.preprocessing import StandardScaler\n",
    "from sklearn.decomposition import PCA\n",
    "from keras.models import Sequential\n",
    "from keras.layers import Dense\n",
    "from keras.utils import np_utils\n",
    "from tensorflow.keras.optimizers import RMSprop"
   ]
  },
  {
   "cell_type": "code",
   "execution_count": 110,
   "id": "2e1e8325",
   "metadata": {},
   "outputs": [],
   "source": [
    "breast = load_breast_cancer()\n",
    "breast_data = breast.data\n",
    "breast_labels = breast.target\n",
    "labels = np.reshape(breast_labels, (569,1))\n",
    "final_breast_data = np.concatenate([breast_data,labels],axis=1)"
   ]
  },
  {
   "cell_type": "code",
   "execution_count": 112,
   "id": "428f7243",
   "metadata": {},
   "outputs": [],
   "source": [
    "breast_dataset = pd.DataFrame(final_breast_data)\n",
    "features = breast.feature_names\n",
    "features_labels = np.append(features,'label')\n",
    "breast_dataset.columns = features_labels"
   ]
  },
  {
   "cell_type": "code",
   "execution_count": 113,
   "id": "f07cb7d8",
   "metadata": {},
   "outputs": [],
   "source": [
    "breast_dataset['label'].replace(0, 'Benign',inplace=True)\n",
    "breast_dataset['label'].replace(1, 'Malignant',inplace=True)"
   ]
  },
  {
   "cell_type": "code",
   "execution_count": 114,
   "id": "95318edd",
   "metadata": {},
   "outputs": [
    {
     "data": {
      "text/plain": [
       "(-6.826538293184326e-17, 1.0)"
      ]
     },
     "execution_count": 114,
     "metadata": {},
     "output_type": "execute_result"
    }
   ],
   "source": [
    "x = breast_dataset.loc[:, features].values\n",
    "x = StandardScaler().fit_transform(x)\n",
    "np.mean(x),np.std(x)"
   ]
  },
  {
   "cell_type": "code",
   "execution_count": 115,
   "id": "a460c85d",
   "metadata": {},
   "outputs": [],
   "source": [
    "feat_cols = ['feature'+str(i) for i in range(x.shape[1])]\n",
    "normalised_breast = pd.DataFrame(x,columns=feat_cols)"
   ]
  },
  {
   "cell_type": "code",
   "execution_count": 116,
   "id": "b91200ee",
   "metadata": {},
   "outputs": [],
   "source": [
    "pca_breast = PCA(n_components=2)\n",
    "principalComponents_breast = pca_breast.fit_transform(x)\n",
    "principal_breast_Df = pd.DataFrame(data = principalComponents_breast, columns = ['principal component 1', 'principal component 2'])"
   ]
  },
  {
   "cell_type": "code",
   "execution_count": 117,
   "id": "e4e91a7a",
   "metadata": {},
   "outputs": [
    {
     "name": "stdout",
     "output_type": "stream",
     "text": [
      "Explained variation per principal component: [0.44272026 0.18971182]\n"
     ]
    }
   ],
   "source": [
    "print('Explained variation per principal component: {}'.format(pca_breast.explained_variance_ratio_))"
   ]
  },
  {
   "cell_type": "code",
   "execution_count": 119,
   "id": "b73cb2f9",
   "metadata": {},
   "outputs": [
    {
     "data": {
      "text/plain": [
       "<matplotlib.legend.Legend at 0x7f91684b6220>"
      ]
     },
     "execution_count": 119,
     "metadata": {},
     "output_type": "execute_result"
    },
    {
     "data": {
      "text/plain": [
       "<Figure size 432x288 with 0 Axes>"
      ]
     },
     "metadata": {},
     "output_type": "display_data"
    },
    {
     "data": {
      "image/png": "[encoded data removed]",
      "text/plain": [
       "<Figure size 720x720 with 1 Axes>"
      ]
     },
     "metadata": {
      "needs_background": "light"
     },
     "output_type": "display_data"
    }
   ],
   "source": [
    "plt.figure()\n",
    "plt.figure(figsize=(10,10))\n",
    "plt.xticks(fontsize=12)\n",
    "plt.yticks(fontsize=14)\n",
    "plt.xlabel('Principal Component - 1',fontsize=20)\n",
    "plt.ylabel('Principal Component - 2',fontsize=20)\n",
    "plt.title(\"Principal Component Analysis of Breast Cancer Dataset\",fontsize=20)\n",
    "targets = ['Benign', 'Malignant']\n",
    "colors = ['maroon', 'palevioletred']\n",
    "for target, color in zip(targets,colors):\n",
    "    indicesToKeep = breast_dataset['label'] == target\n",
    "    plt.scatter(principal_breast_Df.loc[indicesToKeep, 'principal component 1']\n",
    "               , principal_breast_Df.loc[indicesToKeep, 'principal component 2'], c = color, s = 50)\n",
    "plt.legend(targets,prop={'size': 15})"
   ]
  },
  {
   "cell_type": "markdown",
   "id": "2acec915",
   "metadata": {},
   "source": [
    "### What is PCA?\n",
    "\n",
    "PCA stands for Principal Component Analysis. It is a \"linear dimensionality reduction technique\". Just like the definition would imply, it takes a very large data set and breaks it down into more managable chucks all while keeping most of the information. It trades accuracy for simplicity so that machine learning algorithms don't have as much to process and burden the system. This is used for data visualization and machine learning. "
   ]
  },
  {
   "cell_type": "code",
   "execution_count": null,
   "id": "f4c10d01",
   "metadata": {},
   "outputs": [],
   "source": []
  }
 ],
 "metadata": {
  "kernelspec": {
   "display_name": "Python 3 (ipykernel)",
   "language": "python",
   "name": "python3"
  },
  "language_info": {
   "codemirror_mode": {
    "name": "ipython",
    "version": 3
   },
   "file_extension": ".py",
   "mimetype": "text/x-python",
   "name": "python",
   "nbconvert_exporter": "python",
   "pygments_lexer": "ipython3",
   "version": "3.9.7"
  }
 },
 "nbformat": 4,
 "nbformat_minor": 5
}
