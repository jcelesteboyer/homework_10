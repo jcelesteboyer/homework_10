{
 "cells": [
  {
   "cell_type": "markdown",
   "id": "c89cf573",
   "metadata": {},
   "source": [
    "# Vectors"
   ]
  },
  {
   "cell_type": "markdown",
   "id": "19d22fef",
   "metadata": {},
   "source": [
    "TRY IT! Create a row vector and column vector, and show the shape of the vectors."
   ]
  },
  {
   "cell_type": "code",
   "execution_count": 1,
   "id": "ed0ad0e8",
   "metadata": {},
   "outputs": [
    {
     "name": "stdout",
     "output_type": "stream",
     "text": [
      "(1, 5)\n",
      "(4, 1)\n"
     ]
    }
   ],
   "source": [
    "import numpy as np\n",
    "vector_row = np.array([[1, -5, 3, 2, 4]])\n",
    "vector_column = np.array([[1], \n",
    "                          [2], \n",
    "                          [3], \n",
    "                          [4]])\n",
    "print(vector_row.shape)\n",
    "print(vector_column.shape)"
   ]
  },
  {
   "cell_type": "markdown",
   "id": "b3076f37",
   "metadata": {},
   "source": [
    "TRY IT! Transpose the row vector we defined above into a column vector and calculate the 𝐿1, 𝐿2, and 𝐿∞ norm of it. Verify that the 𝐿∞ norm of a vector is equivalent to the maximum value of the elements in the vector."
   ]
  },
  {
   "cell_type": "code",
   "execution_count": 4,
   "id": "ccca0f83",
   "metadata": {},
   "outputs": [
    {
     "name": "stdout",
     "output_type": "stream",
     "text": [
      "[[ 1]\n",
      " [-5]\n",
      " [ 3]\n",
      " [ 2]\n",
      " [ 4]]\n",
      "L_1 is: 15.0\n",
      "L_2 is: 7.4\n",
      "L_inf is: 5.0\n"
     ]
    }
   ],
   "source": [
    "from numpy.linalg import norm\n",
    "new_vector = vector_row.T\n",
    "print(new_vector)\n",
    "norm_1 = norm(new_vector, 1)\n",
    "norm_2 = norm(new_vector, 2)\n",
    "norm_inf = norm(new_vector, np.inf)\n",
    "print('L_1 is: %.1f'%norm_1)\n",
    "print('L_2 is: %.1f'%norm_2)\n",
    "print('L_inf is: %.1f'%norm_inf)"
   ]
  },
  {
   "cell_type": "markdown",
   "id": "d3eb6dda",
   "metadata": {},
   "source": [
    "The dot product of two vectors is the sum of the product of the respective elements in each vector and is denoted by ⋅. v⋅w is read “v dot w.” The angle between two vectors, θ, is defined by the formula: 𝑣⋅𝑤=‖𝑣‖2‖𝑤‖2cos𝜃. \n",
    "\n",
    "TRY IT! Compute the angle between the vectors 𝑣=[10,9,3] and 𝑤=[2,5,12]"
   ]
  },
  {
   "cell_type": "code",
   "execution_count": 5,
   "id": "7a20bc50",
   "metadata": {},
   "outputs": [
    {
     "name": "stdout",
     "output_type": "stream",
     "text": [
      "[[0.97992471]]\n"
     ]
    }
   ],
   "source": [
    "from numpy import arccos, dot\n",
    "\n",
    "v = np.array([[10, 9, 3]])\n",
    "w = np.array([[2, 5, 12]])\n",
    "theta = \\\n",
    "    arccos(dot(v, w.T)/(norm(v)*norm(w)))\n",
    "print(theta)"
   ]
  },
  {
   "cell_type": "markdown",
   "id": "19fbc97b",
   "metadata": {},
   "source": [
    "Finally, the cross product between two vectors, 𝑣 and 𝑤, is written 𝑣×𝑤. It is defined by 𝑣×𝑤=‖𝑣‖2‖𝑤‖2sin(𝜃)n, where 𝜃 is the angle between the 𝑣 and 𝑤(which can be computed from the dot product) and 𝑛 is a vector perpendicular to both 𝑣 and 𝑤 with unit length (i.e., the length is one). The geometric interpretation of the cross product is a vector perpendicular to both 𝑣 and 𝑤 with length equal to the area enclosed by the parallelogram created by the two vectors.\n",
    "\n",
    "TRY IT! Given the vectors 𝑣=[0,2,0]and 𝑤=[3,0,0], use the Numpy function cross to compute the cross product of v and w."
   ]
  },
  {
   "cell_type": "code",
   "execution_count": 6,
   "id": "cff5845b",
   "metadata": {},
   "outputs": [
    {
     "name": "stdout",
     "output_type": "stream",
     "text": [
      "[[ 0  0 -6]]\n"
     ]
    }
   ],
   "source": [
    "v = np.array([[0, 2, 0]])\n",
    "w = np.array([[3, 0, 0]])\n",
    "print(np.cross(v, w))"
   ]
  },
  {
   "cell_type": "markdown",
   "id": "1b8a873d",
   "metadata": {},
   "source": [
    "TRY IT! Given the row vectors 𝑣=[0,3,2], 𝑤=[4,1,1], and 𝑢=[0,−2,0], write the vector 𝑥=[−8,−1,4] as a linear combination of 𝑣, 𝑤, and 𝑢."
   ]
  },
  {
   "cell_type": "code",
   "execution_count": 7,
   "id": "7ddfbbce",
   "metadata": {},
   "outputs": [
    {
     "name": "stdout",
     "output_type": "stream",
     "text": [
      "[[-8 -1  4]]\n"
     ]
    }
   ],
   "source": [
    "v = np.array([[0, 3, 2]])\n",
    "w = np.array([[4, 1, 1]])\n",
    "u = np.array([[0, -2, 0]])\n",
    "x = 3*v-2*w+4*u\n",
    "print(x)"
   ]
  },
  {
   "cell_type": "markdown",
   "id": "9a0c19f8",
   "metadata": {},
   "source": [
    "# Matrices"
   ]
  },
  {
   "cell_type": "markdown",
   "id": "4afd3099",
   "metadata": {},
   "source": []
  }
 ],
 "metadata": {
  "kernelspec": {
   "display_name": "Python 3 (ipykernel)",
   "language": "python",
   "name": "python3"
  },
  "language_info": {
   "codemirror_mode": {
    "name": "ipython",
    "version": 3
   },
   "file_extension": ".py",
   "mimetype": "text/x-python",
   "name": "python",
   "nbconvert_exporter": "python",
   "pygments_lexer": "ipython3",
   "version": "3.9.7"
  }
 },
 "nbformat": 4,
 "nbformat_minor": 5
}
